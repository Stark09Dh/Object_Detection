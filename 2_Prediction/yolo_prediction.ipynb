{
 "cells": [
  {
   "cell_type": "code",
   "execution_count": 1,
   "id": "668014d7-ee6b-41c4-9376-09fc394d49af",
   "metadata": {},
   "outputs": [],
   "source": [
    "import cv2\n",
    "import numpy as np \n",
    "import os\n",
    "import yaml\n",
    "from yaml import SafeLoader"
   ]
  },
  {
   "cell_type": "code",
   "execution_count": 2,
   "id": "1bf1d94f-765c-4a37-b415-e68cb4216d61",
   "metadata": {},
   "outputs": [],
   "source": [
    "# load the yaml\n",
    "with open('data.yaml',mode='r') as f:\n",
    "          data_yaml = yaml.load(f,Loader = SafeLoader)\n",
    "\n",
    "labels = data_yaml['names']\n"
   ]
  },
  {
   "cell_type": "code",
   "execution_count": 3,
   "id": "44324c26-fa32-42a8-8790-755a60ab7470",
   "metadata": {},
   "outputs": [],
   "source": [
    "# load YOLO model\n",
    "\n",
    "yolo = cv2.dnn.readNetFromONNX('./Model4-20240501T194348Z-001/Model4/weights/best.onnx')\n",
    "yolo.setPreferableBackend(cv2.dnn.DNN_BACKEND_OPENCV)\n",
    "yolo.setPreferableTarget(cv2.dnn.DNN_TARGET_CPU)"
   ]
  },
  {
   "cell_type": "code",
   "execution_count": 41,
   "id": "522faa7d-aef4-4e06-895c-38eb14fb9aa8",
   "metadata": {},
   "outputs": [],
   "source": [
    "# load the image \n",
    "import cv2\n",
    "import numpy as np\n",
    "\n",
    "img = cv2.imread('./image.jpg')\n",
    "\n",
    "image  = image.copy()\n",
    "\n",
    "row, col, d = image.shape\n",
    "\n",
    "max_rc = max(row, col)\n",
    "\n",
    "input_image = np.zeros((max_rc, max_rc, 3), dtype=np.uint8)\n",
    "\n",
    "input_image[0:row, 0:col] = image\n",
    "\n",
    "INPUT_WH_YOLO = 640\n",
    "\n",
    "blob = cv2.dnn.blobFromImage(input_image,1/255,(INPUT_WH_YOLO,INPUT_WH_YOLO),swapRB=True,crop=False)\n",
    "\n",
    "yolo.setInput(blob)\n",
    "\n",
    "preds = yolo.forward()\n",
    "\n",
    "# Display the square image\n",
    "cv2.imshow('input_image', input_image)\n",
    "cv2.waitKey(0)\n",
    "cv2.destroyAllWindows()\n",
    "\n",
    "\n",
    "# get the yolo prediction from the image"
   ]
  },
  {
   "cell_type": "code",
   "execution_count": 42,
   "id": "9e1a2491-d9cc-405b-a779-d9e0dd9f4983",
   "metadata": {},
   "outputs": [
    {
     "data": {
      "text/plain": [
       "(1, 25200, 25)"
      ]
     },
     "execution_count": 42,
     "metadata": {},
     "output_type": "execute_result"
    }
   ],
   "source": [
    "preds.shape"
   ]
  },
  {
   "cell_type": "code",
   "execution_count": 43,
   "id": "cd7c863e-b32e-41b4-86e6-bc9e2c934e1b",
   "metadata": {},
   "outputs": [],
   "source": [
    "# Non maximum supression\n",
    "# step-1 : filter detection based on confidence (0.4) and probablity score (0.25)\n",
    "detections = preds[0]\n",
    "boxes = []\n",
    "confidences = []\n",
    "classes = []\n",
    "\n",
    "\n",
    "# widht and height of the image (input_image)\n",
    "image_w, image_h = input_image.shape[:2]\n",
    "x_factor = image_w/INPUT_WH_YOLO\n",
    "y_factor = image_h/INPUT_WH_YOLO\n",
    "\n",
    "for i in range(len(detections)):\n",
    "    row = detections[i]\n",
    "    confidence = row[4] # confidence of detection an object\n",
    "    if confidence > 0.38:\n",
    "        class_score = row[5:].max() # maximum probability from 20 objects\n",
    "        class_id = row[5:].argmax() # get the index position at which max probabilty occur\n",
    "\n",
    "        if class_score > 0.25:\n",
    "            cx, cy, w, h = row[0:4]\n",
    "            # construct bounding from four values\n",
    "            # Left, top, width and height\n",
    "            left =int((cx -0.5*w)*x_factor)\n",
    "            top = int((cy -0.5*h)*y_factor)\n",
    "            width = int(w*x_factor)\n",
    "            height = int(h*y_factor)\n",
    "\n",
    "            box = np.array([left,top,width,height])\n",
    "            \n",
    "            # append values into the list\n",
    "            confidences.append(confidence)\n",
    "            boxes.append(box)\n",
    "            classes.append(class_id)\n",
    "\n",
    "#clean\n",
    "boxes_np = np.array(boxes).tolist()\n",
    "confidences_np = np.array(confidences).tolist()\n",
    "\n",
    "#NMS\n",
    "index = cv2.dnn.NMSBoxes(boxes_np,confidences_np,0.25,0.40).flatten()"
   ]
  },
  {
   "cell_type": "code",
   "execution_count": 44,
   "id": "c1cf3eb5-6fe1-4b55-9d42-423e0f23794c",
   "metadata": {},
   "outputs": [
    {
     "data": {
      "text/plain": [
       "22"
      ]
     },
     "execution_count": 44,
     "metadata": {},
     "output_type": "execute_result"
    }
   ],
   "source": [
    "len(index)"
   ]
  },
  {
   "cell_type": "code",
   "execution_count": null,
   "id": "2f75bbfc-a291-456c-ae5a-f17d4c2ef7e4",
   "metadata": {},
   "outputs": [],
   "source": []
  },
  {
   "cell_type": "code",
   "execution_count": 45,
   "id": "c1b20440-1513-4491-93ac-40c88510765e",
   "metadata": {},
   "outputs": [],
   "source": [
    "# Draw the Bounding Box\n",
    "for ind in index:\n",
    "    x,y,w,h = boxes_np[ind]\n",
    "    bb_conf = int(confidences_np[ind]*100)\n",
    "    classes_id = classes[ind]\n",
    "    class_name = labels[classes_id]\n",
    "\n",
    "    text = f'{class_name}:{bb_conf}'\n",
    "\n",
    "    cv2.rectangle(image,(x,y),(x+w,x+h),(0,255,0),2)\n",
    "\n",
    "    cv2.rectangle(image,(x,y),(x+w,y+h),(0,255,0),2)\n",
    "    cv2.rectangle(image,(x,y-30),(x+w,y),(255,255,255),-1)\n",
    "\n",
    "    cv2.putText(image,text,(x,y-10),cv2.FONT_HERSHEY_PLAIN,0.7,(0,0,0),1)\n",
    "    "
   ]
  },
  {
   "cell_type": "code",
   "execution_count": 46,
   "id": "36fabb4b-cacc-4d13-922d-d17f79008941",
   "metadata": {},
   "outputs": [],
   "source": [
    "cv2.imshow('original',image)\n",
    "cv2.imshow('yolo_prediction',img)\n",
    "\n",
    "cv2.waitKey(0)\n",
    "cv2.destroyAllWindows()"
   ]
  },
  {
   "cell_type": "code",
   "execution_count": null,
   "id": "2d0798eb-4cf1-4a4b-ba8d-63763475fcea",
   "metadata": {},
   "outputs": [],
   "source": []
  }
 ],
 "metadata": {
  "kernelspec": {
   "display_name": "Python 3 (ipykernel)",
   "language": "python",
   "name": "python3"
  },
  "language_info": {
   "codemirror_mode": {
    "name": "ipython",
    "version": 3
   },
   "file_extension": ".py",
   "mimetype": "text/x-python",
   "name": "python",
   "nbconvert_exporter": "python",
   "pygments_lexer": "ipython3",
   "version": "3.10.6"
  }
 },
 "nbformat": 4,
 "nbformat_minor": 5
}
